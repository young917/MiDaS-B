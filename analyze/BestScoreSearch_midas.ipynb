{
 "cells": [
  {
   "cell_type": "code",
   "execution_count": 34,
   "id": "prospective-collection",
   "metadata": {},
   "outputs": [],
   "source": [
    "import os\n",
    "from collections import defaultdict\n",
    "import numpy as np\n",
    "import pandas as pd\n",
    "import matplotlib.pyplot as plt"
   ]
  },
  {
   "cell_type": "code",
   "execution_count": 35,
   "id": "underlying-permit",
   "metadata": {},
   "outputs": [],
   "source": [
    "dataset = [\n",
    "    \"email-Enron-full\", \"email-Eu-full\",\n",
    "    \"contact-high-school\", \"contact-primary-school\",\n",
    "    \"NDC-classes-full\", \"NDC-substances-full\",\n",
    "    \"tags-ask-ubuntu\", \"tags-math-sx\",\n",
    "    \"threads-ask-ubuntu\", \"coauth-MAG-History-full\", \"coauth-MAG-Geology-full\"\n",
    "]\n",
    "\n",
    "ASS = [\"0.00\", \"0.25\", \"0.50\", \"1.00\", \"2.00\"]"
   ]
  },
  {
   "cell_type": "code",
   "execution_count": null,
   "id": "plastic-influence",
   "metadata": {
    "scrolled": true
   },
   "outputs": [],
   "source": [
    "data2bestalgo = defaultdict()\n",
    "\n",
    "for dataname in dataset:\n",
    "    scores = []\n",
    "    for aindex, alpha in enumerate(ASS):\n",
    "        beta = \"0.00\"\n",
    "        curscore = 0\n",
    "        for repeatindex in range(1,4):\n",
    "            fname = \"../results/es/add_global_deg_min_{}_{}/{}/{}/score.txt\".format(alpha, beta, dataname, repeatindex)\n",
    "            with open(fname, \"r\") as f:\n",
    "                score = float(f.readline().rstrip())\n",
    "            curscore += score\n",
    "        curscore /= 3\n",
    "        scores.append(curscore)\n",
    "    best_aindex = np.argmin(np.array(scores))\n",
    "    data2bestalgo[dataname] = ASS[best_aindex]"
   ]
  },
  {
   "cell_type": "code",
   "execution_count": 38,
   "id": "requested-equilibrium",
   "metadata": {},
   "outputs": [],
   "source": [
    "name = \"midas\"\n",
    "dirpath = \"../results/\" + name + \"/\"\n",
    "\n",
    "if os.path.isdir(dirpath) is False:\n",
    "    os.makedirs(dirpath)\n",
    "if os.path.isfile(dirpath + \"search_result.txt\"):\n",
    "    os.remove(dirpath + \"search_result.txt\")\n",
    "\n",
    "for dataname in dataset:\n",
    "    param = data2bestalgo[dataname]\n",
    "    with open(dirpath + \"search_result.txt\", \"a\") as f:\n",
    "        line = \"/home/MiDaS-B/results/es/add_global_deg_min_{}_0.00/{}/\".format(param, dataname) + \"\\n\"\n",
    "        f.write(line)"
   ]
  }
 ],
 "metadata": {
  "kernelspec": {
   "display_name": "Python 3",
   "language": "python",
   "name": "python3"
  },
  "language_info": {
   "codemirror_mode": {
    "name": "ipython",
    "version": 3
   },
   "file_extension": ".py",
   "mimetype": "text/x-python",
   "name": "python",
   "nbconvert_exporter": "python",
   "pygments_lexer": "ipython3",
   "version": "3.8.5"
  }
 },
 "nbformat": 4,
 "nbformat_minor": 5
}
