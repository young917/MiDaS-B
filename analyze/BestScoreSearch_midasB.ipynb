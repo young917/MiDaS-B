{
 "cells": [
  {
   "cell_type": "code",
   "execution_count": 48,
   "id": "prospective-collection",
   "metadata": {},
   "outputs": [],
   "source": [
    "import os\n",
    "from collections import defaultdict\n",
    "import numpy as np\n",
    "import pandas as pd\n",
    "import matplotlib.pyplot as plt"
   ]
  },
  {
   "cell_type": "code",
   "execution_count": 49,
   "id": "underlying-permit",
   "metadata": {},
   "outputs": [],
   "source": [
    "dataset = [\n",
    "    \"email-Enron-full\", \"email-Eu-full\",\n",
    "    \"contact-high-school\", \"contact-primary-school\",\n",
    "    \"NDC-classes-full\", \"NDC-substances-full\",\n",
    "    \"tags-ask-ubuntu\", \"tags-math-sx\",\n",
    "    \"threads-ask-ubuntu\", \"coauth-MAG-History-full\", \"coauth-MAG-Geology-full\"\n",
    "]\n",
    "\n",
    "ASS = [\"0.00\", \"0.25\", \"0.50\", \"1.00\", \"2.00\"]\n",
    "BSS = [\"-1.00\", \"-0.50\", \"-0.25\", \"0.00\", \"0.25\", \"0.50\", \"1.00\"]\n",
    "\n",
    "repeat = [1,2,3]"
   ]
  },
  {
   "cell_type": "code",
   "execution_count": null,
   "id": "plastic-influence",
   "metadata": {
    "scrolled": false
   },
   "outputs": [],
   "source": [
    "data2bestalgo = defaultdict()\n",
    "\n",
    "for dataname in dataset:\n",
    "    score_mat = np.zeros((len(ASS), len(BSS)))\n",
    "    for aindex, alpha in enumerate(ASS):\n",
    "        for bindex, beta in enumerate(BSS):\n",
    "            reject_times = 0\n",
    "            for repeatindex in repeat:\n",
    "                fname = \"../results/essz/add_global_deg_min_{}_{}/{}/{}/score.txt\".format(alpha, beta, dataname, repeatindex)\n",
    "                with open(fname, \"r\") as f:\n",
    "                    score = float(f.readline().rstrip())\n",
    "                score_mat[aindex][bindex] += score\n",
    "            score_mat[aindex][bindex] /= len(repeat)\n",
    "    \n",
    "    ind0, ind1 = np.unravel_index(np.argmin(score_mat, axis=None), score_mat.shape)\n",
    "    data2bestalgo[dataname] = ASS[ind0] + \"_\" + BSS[ind1]"
   ]
  },
  {
   "cell_type": "code",
   "execution_count": 56,
   "id": "requested-equilibrium",
   "metadata": {},
   "outputs": [],
   "source": [
    "name = \"midasB\"\n",
    "dirpath = \"../results/\" + name + \"/\"\n",
    "\n",
    "if os.path.isdir(dirpath) is False:\n",
    "    os.makedirs(dirpath)\n",
    "if os.path.isfile(dirpath + \"search_result.txt\"):\n",
    "    os.remove(dirpath + \"search_result.txt\")\n",
    "\n",
    "for dataname in dataset:\n",
    "    param = data2bestalgo[dataname]\n",
    "    with open(dirpath + \"search_result.txt\", \"a\") as f:\n",
    "        line = \"/home/MiDaS-B/results/essz/add_global_deg_min_{}/{}/\".format(param, dataname) + \"\\n\"\n",
    "        f.write(line)"
   ]
  }
 ],
 "metadata": {
  "kernelspec": {
   "display_name": "Python 3",
   "language": "python",
   "name": "python3"
  },
  "language_info": {
   "codemirror_mode": {
    "name": "ipython",
    "version": 3
   },
   "file_extension": ".py",
   "mimetype": "text/x-python",
   "name": "python",
   "nbconvert_exporter": "python",
   "pygments_lexer": "ipython3",
   "version": "3.8.5"
  }
 },
 "nbformat": 4,
 "nbformat_minor": 5
}
