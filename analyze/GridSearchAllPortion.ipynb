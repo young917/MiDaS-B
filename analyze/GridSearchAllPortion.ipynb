{
 "cells": [
  {
   "cell_type": "code",
   "execution_count": 54,
   "id": "positive-cooking",
   "metadata": {},
   "outputs": [],
   "source": [
    "import pandas as pd\n",
    "import numpy as np\n",
    "from collections import defaultdict\n",
    "from scipy import stats\n",
    "import matplotlib.pyplot as plt\n",
    "import os\n",
    "import math\n",
    "plt.rcParams.update({'font.size': 20})"
   ]
  },
  {
   "cell_type": "code",
   "execution_count": 55,
   "id": "south-consensus",
   "metadata": {},
   "outputs": [],
   "source": [
    "search_name = \"midas_oracle\"\n",
    "# search_name = \"midasB_oracle\""
   ]
  },
  {
   "cell_type": "code",
   "execution_count": 56,
   "id": "presidential-reserve",
   "metadata": {},
   "outputs": [],
   "source": [
    "ss1 = [0.0, 0.25 ,0.5, 1.0, 2.0]\n",
    "ss2 = [-1.0, -0.5, -0.25, 0.0, 0.25 ,0.5, 1.0]\n",
    "\n",
    "searching = {\n",
    "    \"midas_oracle\": [\"es/add_global_deg_min_%.4f\" % (alpha) for alpha in ss1],\n",
    "    \"midasB_oracle\": [\"essz/add_global_deg_min_%.2f_%.2f\" % (alpha, beta) for alpha in ss1 for beta in ss2],\n",
    "}"
   ]
  },
  {
   "cell_type": "code",
   "execution_count": 57,
   "id": "rocky-tonight",
   "metadata": {},
   "outputs": [],
   "source": [
    "evallist = [\"clusteringcoef\", \"densification\", \"effdiameter\", \"overlapness\"]\n",
    "evaldistlist = [\"degree\", \"intersection\", \"pairdeg\", \"size\", \"sv\", \"wcc\"]"
   ]
  },
  {
   "cell_type": "code",
   "execution_count": 58,
   "id": "amber-transcription",
   "metadata": {},
   "outputs": [],
   "source": [
    "dataset = [\"email-Enron-full\", \"email-Eu-full\",  \n",
    "           \"contact-high-school\", \"contact-primary-school\",\n",
    "          \"NDC-classes-full\", \"NDC-substances-full\", \"tags-ask-ubuntu\", \"tags-math-sx\", \n",
    "           \"threads-ask-ubuntu\", \"coauth-MAG-History-full\", \"coauth-MAG-Geology-full\"]"
   ]
  },
  {
   "cell_type": "code",
   "execution_count": 60,
   "id": "amber-month",
   "metadata": {},
   "outputs": [],
   "source": [
    "bestalgo = {}\n",
    "for dataname in dataset:\n",
    "    result = {}\n",
    "    \n",
    "    d = pd.read_csv(\"csvs/%s/eval_diff_norm_all_%s.txt\" % (dataname, search_name))\n",
    "    minnorm = min(d[\"avg\"])\n",
    "    maxnorm = max(d[\"avg\"])\n",
    "    for i, row in d.iterrows():\n",
    "        algoname = row[\"algoname\"]\n",
    "        norm = (row[\"avg\"] - minnorm) / (maxnorm - minnorm)\n",
    "        result[algoname] = norm\n",
    "    \n",
    "    \n",
    "    d = pd.read_csv(\"csvs/%s/eval_diff_rank_all_%s.txt\" % (dataname, search_name))\n",
    "    minrank = min(d[\"avg\"])\n",
    "    maxrank = max(d[\"avg\"])\n",
    "    for i, row in d.iterrows():\n",
    "        algoname = row[\"algoname\"]\n",
    "        rank = (row[\"avg\"] - minrank) / (maxrank - minrank)\n",
    "        result[algoname] += rank\n",
    "    \n",
    "    \n",
    "    bestalgoname = \"\"\n",
    "    bestalgoval = 1000\n",
    "    for k, v in result.items():\n",
    "        if bestalgoval > v:\n",
    "            bestalgoname = k\n",
    "            bestalgoval = v\n",
    "    bestalgo[dataname] = bestalgoname"
   ]
  },
  {
   "cell_type": "code",
   "execution_count": 62,
   "id": "automotive-puzzle",
   "metadata": {},
   "outputs": [],
   "source": [
    "name = search_name\n",
    "dirpath = \"../results/\" + name + \"/\"\n",
    "\n",
    "if os.path.isdir(dirpath) is False:\n",
    "    os.makedirs(dirpath)\n",
    "if os.path.isfile(dirpath + \"search_result.txt\"):\n",
    "    os.remove(dirpath + \"search_result.txt\")\n",
    "\n",
    "for dataname in dataset:\n",
    "    with open(dirpath + \"search_result.txt\", \"a\") as f:\n",
    "        algoname = bestalgo[dataname]\n",
    "        line = \"/home/MiDaS-B/results/{}/{}/\".format(algoname, dataname) + \"\\n\"\n",
    "        f.write(line)"
   ]
  }
 ],
 "metadata": {
  "kernelspec": {
   "display_name": "Python 3",
   "language": "python",
   "name": "python3"
  },
  "language_info": {
   "codemirror_mode": {
    "name": "ipython",
    "version": 3
   },
   "file_extension": ".py",
   "mimetype": "text/x-python",
   "name": "python",
   "nbconvert_exporter": "python",
   "pygments_lexer": "ipython3",
   "version": "3.8.5"
  }
 },
 "nbformat": 4,
 "nbformat_minor": 5
}
